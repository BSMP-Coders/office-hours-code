{
 "cells": [
  {
   "cell_type": "markdown",
   "metadata": {},
   "source": [
    "# Azure cosmos DB for Python\n",
    "\n",
    "\n",
    "- https://pypi.org/project/azure-cosmos/\n",
    "- https://github.com/Azure/azure-sdk-for-python\n",
    "- https://www.youtube.com/watch?v=Jbuy42LnB9w&ab_channel=ApostolosAthanasiou"
   ]
  },
  {
   "cell_type": "code",
   "execution_count": 1,
   "metadata": {},
   "outputs": [],
   "source": [
    "#https://pypi.org/project/azure-cosmos/\n",
    "# pip install azure-cosmos\n",
    "from azure.cosmos import CosmosClient\n",
    "import os\n",
    "import dotenv  \n",
    "  \n",
    "# Load environment variables  \n",
    "dotenv.load_dotenv()  \n",
    "  \n",
    "# Get the keys and variables from environment  \n",
    "COSMOSDB_URI = os.getenv(\"COSMOSDB_URI\")  \n",
    "COSMOSDB_KEY = os.getenv(\"COSMOSDB_KEY\")  \n",
    "client = CosmosClient(COSMOSDB_URI, credential=COSMOSDB_KEY)"
   ]
  },
  {
   "cell_type": "code",
   "execution_count": 2,
   "metadata": {},
   "outputs": [],
   "source": [
    "# create a database\n",
    "from azure.cosmos import CosmosClient, exceptions\n",
    "DATABASE_NAME = 'testDatabase'\n",
    "try:\n",
    "    database = client.create_database(DATABASE_NAME)\n",
    "except exceptions.CosmosResourceExistsError:\n",
    "    database = client.get_database_client(DATABASE_NAME)"
   ]
  },
  {
   "cell_type": "code",
   "execution_count": 3,
   "metadata": {},
   "outputs": [],
   "source": [
    "#Create a container\n",
    "from azure.cosmos import CosmosClient, PartitionKey, exceptions\n",
    "\n",
    "CONTAINER_NAME = 'products'\n",
    "\n",
    "try:\n",
    "    container = database.create_container(id=CONTAINER_NAME, partition_key=PartitionKey(path=\"/productName\"))\n",
    "except exceptions.CosmosResourceExistsError:\n",
    "    container = database.get_container_client(CONTAINER_NAME)\n",
    "except exceptions.CosmosHttpResponseError:\n",
    "    raise"
   ]
  },
  {
   "cell_type": "code",
   "execution_count": 4,
   "metadata": {},
   "outputs": [],
   "source": [
    "# Get an existing container | Retrieve an existing container from the database:\n",
    "\n",
    "client = CosmosClient(COSMOSDB_URI, credential=COSMOSDB_KEY)\n",
    "DATABASE_NAME = 'testDatabase'\n",
    "database = client.get_database_client(DATABASE_NAME)\n",
    "CONTAINER_NAME = 'products'\n",
    "container = database.get_container_client(CONTAINER_NAME)"
   ]
  },
  {
   "cell_type": "code",
   "execution_count": 5,
   "metadata": {},
   "outputs": [],
   "source": [
    "#Insert data\n",
    "for i in range(1, 10):\n",
    "    container.upsert_item({\n",
    "            'id': 'item{0}'.format(i),\n",
    "            'productName': 'Widget',\n",
    "            'productModel': 'Model {0}'.format(i)\n",
    "        }\n",
    "    )"
   ]
  },
  {
   "cell_type": "code",
   "execution_count": 6,
   "metadata": {},
   "outputs": [
    {
     "name": "stdout",
     "output_type": "stream",
     "text": [
      "{\n",
      " \"id\": \"item3\",\n",
      " \"productName\": \"Widget\",\n",
      " \"productModel\": \"Model 3\",\n",
      " \"_rid\": \"WKEYAL4TtRADAAAAAAAAAA==\",\n",
      " \"_self\": \"dbs/WKEYAA==/colls/WKEYAL4TtRA=/docs/WKEYAL4TtRADAAAAAAAAAA==/\",\n",
      " \"_etag\": \"\\\"1801f590-0000-0300-0000-66ad1ab30000\\\"\",\n",
      " \"_attachments\": \"attachments/\",\n",
      " \"_ts\": 1722620595\n",
      "}\n"
     ]
    }
   ],
   "source": [
    "# Enumerate the returned items\n",
    "import json\n",
    "for item in container.query_items(\n",
    "        query='SELECT * FROM mycontainer r WHERE r.id=\"item3\"',\n",
    "        enable_cross_partition_query=True):\n",
    "    print(json.dumps(item, indent=True))"
   ]
  },
  {
   "cell_type": "code",
   "execution_count": null,
   "metadata": {},
   "outputs": [],
   "source": []
  },
  {
   "cell_type": "code",
   "execution_count": null,
   "metadata": {},
   "outputs": [],
   "source": []
  },
  {
   "cell_type": "code",
   "execution_count": null,
   "metadata": {},
   "outputs": [],
   "source": []
  }
 ],
 "metadata": {
  "kernelspec": {
   "display_name": "bsmp",
   "language": "python",
   "name": "python3"
  },
  "language_info": {
   "codemirror_mode": {
    "name": "ipython",
    "version": 3
   },
   "file_extension": ".py",
   "mimetype": "text/x-python",
   "name": "python",
   "nbconvert_exporter": "python",
   "pygments_lexer": "ipython3",
   "version": "3.10.0"
  }
 },
 "nbformat": 4,
 "nbformat_minor": 2
}
